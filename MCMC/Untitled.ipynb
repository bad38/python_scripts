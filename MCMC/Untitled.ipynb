{
 "cells": [
  {
   "cell_type": "code",
   "execution_count": 27,
   "id": "03343e20",
   "metadata": {},
   "outputs": [
    {
     "name": "stdout",
     "output_type": "stream",
     "text": [
      "Pittsburgh-ification matrix T: [[0.4  0.34 0.6 ]\n",
      " [0.4  0.33 0.1 ]\n",
      " [0.2  0.33 0.3 ]]\n",
      "Initial sports watching habits of new person Pgh_new: [0.1 0.3 0.6]\n",
      "Sport Watching Habits [Steelers,Penguins,Pirates] after 1 weeks: [0.502 0.199 0.299]\n",
      "Sport Watching Habits [Steelers,Penguins,Pirates] after 3 weeks: [0.4333718 0.3025231 0.2641051]\n",
      "Sport Watching Habits [Steelers,Penguins,Pirates] after 5 weeks: [0.43517219 0.29930702 0.26552079]\n",
      "Sport Watching Habits [Steelers,Penguins,Pirates] after 7 weeks: [0.43512886 0.29940394 0.26546719]\n",
      "Sport Watching Habits [Steelers,Penguins,Pirates] after 9 weeks: [0.43512975 0.29940112 0.26546913]\n",
      "Sport Watching Habits [Steelers,Penguins,Pirates] after 11 weeks: [0.43512974 0.2994012  0.26546906]\n",
      "Sport Watching Habits [Steelers,Penguins,Pirates] after 13 weeks: [0.43512974 0.2994012  0.26546906]\n"
     ]
    }
   ],
   "source": [
    "import numpy as np\n",
    "\n",
    "#Let's define the sports watching habits of our person new to pittsburgh\n",
    "#We'll divide the time they spend watching sports into three groups\n",
    "#time = [Football, Hockey, Baseball]\n",
    "Pgh_new = np.asarray([.1,.3,.6])\n",
    "\n",
    "#Let's Assume that this person immediately adopts the viewing habits of\n",
    "#the locals... They are being \"Pittsburgh-ified\"\n",
    "\n",
    "#Defining our Pittsburgh-ification matrix\n",
    "T = np.asarray([[0.4, 0.34, 0.6], [0.4, 0.33, 0.1], [0.2, 0.33, 0.3]])\n",
    "\n",
    "#Just our matrix to the screen\n",
    "print(f\"Pittsburgh-ification matrix T: {T}\")\n",
    "\n",
    "print(f\"Initial sports watching habits of new person Pgh_new: {Pgh_new}\")\n",
    "\n",
    "for i in range(14):\n",
    "    Pgh_new = np.matmul(T, Pgh_new) #python matrix multiplication function\n",
    "    if i % 2 == 0:\n",
    "        print(f\"Sport Watching Habits [Steelers,Penguins,Pirates] after {i+1} weeks: {Pgh_new}\")        \n",
    "        \n",
    "#[0.43512974 0.2994012  0.26546906] is the stationary distribution value of this markov chain\n",
    "#i.e the value that any array will converge toward after going through this markov chain enough \n",
    "#times. In this context, you can view the stationary distribution as the sports watching habits\n",
    "#of anyone has lived consitantly in Pittsburgh for a long time.\n",
    "\n",
    "#We see that it will take about 11 weeks for this person to have the same viewing distribution\n",
    "#as a long time resident of Pittsburgh."
   ]
  },
  {
   "cell_type": "code",
   "execution_count": null,
   "id": "56cdcc69",
   "metadata": {},
   "outputs": [],
   "source": []
  },
  {
   "cell_type": "code",
   "execution_count": null,
   "id": "990519af",
   "metadata": {},
   "outputs": [],
   "source": []
  },
  {
   "cell_type": "code",
   "execution_count": null,
   "id": "8e3f3f9e",
   "metadata": {},
   "outputs": [],
   "source": []
  }
 ],
 "metadata": {
  "kernelspec": {
   "display_name": "Python 3 (ipykernel)",
   "language": "python",
   "name": "python3"
  },
  "language_info": {
   "codemirror_mode": {
    "name": "ipython",
    "version": 3
   },
   "file_extension": ".py",
   "mimetype": "text/x-python",
   "name": "python",
   "nbconvert_exporter": "python",
   "pygments_lexer": "ipython3",
   "version": "3.11.0"
  }
 },
 "nbformat": 4,
 "nbformat_minor": 5
}
